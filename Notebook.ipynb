{
 "cells": [
  {
   "cell_type": "markdown",
   "metadata": {},
   "source": [
    "# Jupyter Notebook Presentation\n",
    "\n",
    "- What is Jupyter Notebook?\n",
    "- Getting started\n",
    "    - Anaconda installation\n",
    "    - Running Jupyter Notebook\n",
    "    - Notebook overview\n",
    "- Cell Markdown + LaTeX\n",
    "- How to incorporate programming in other courses\n",
    "    - Notebooks as tools to verify hand calcs\n",
    "    - Notebook based assignments\n",
    "- Installing additional packages\n",
    "    - Control, Coolprops, Nbgrader\n",
    "- Online community and further information"
   ]
  },
  {
   "cell_type": "markdown",
   "metadata": {},
   "source": [
    "--------------------------------------\n",
    "# What is Jupyter Notebook?\n",
    "\n",
    "Jupyter Notebook is a web application that allows you to create and share notebooks.\n",
    "\n",
    "# What is a notebook?\n",
    "\n",
    "**This is a notebook, a document rendered through the Jupyter Notebook application that can contain:**"
   ]
  },
  {
   "cell_type": "markdown",
   "metadata": {},
   "source": [
    "--------------------------------------\n",
    "### Headings and text\n",
    "\n",
    "\"The Jupyter Notebook is an open-source web application that allows you to create and share documents that contain live code, equations, visualizations and explanatory text. Uses include: data cleaning and transformation, numerical simulation, statistical modeling, machine learning and much more.\" [http://jupyter.org/](http://jupyter.org/)"
   ]
  },
  {
   "cell_type": "markdown",
   "metadata": {},
   "source": [
    "--------------------------------------\n",
    "### Figures\n",
    "\n",
    "<img src=\"http://jupyter.org/assets/jupyterpreview.png\" width=\"300px\">"
   ]
  },
  {
   "cell_type": "markdown",
   "metadata": {},
   "source": [
    "--------------------------------------\n",
    "### Tables\n",
    " \n",
    "| This | is   | a  | table |\n",
    "|------|------|----|-------|\n",
    "|   1  | 11   | 12 | 13    |\n",
    "|   2  | 21   | 22 | 23    |\n",
    "|   3  | 31   | 32 | 33    |\n",
    "|   4  | 41   | 42 | 43    |"
   ]
  },
  {
   "cell_type": "markdown",
   "metadata": {},
   "source": [
    "--------------------------------------\n",
    "### Videos"
   ]
  },
  {
   "cell_type": "code",
   "execution_count": 7,
   "metadata": {},
   "outputs": [
    {
     "data": {
      "text/html": [
       "<iframe width=\"400\" height=\"250\" src=\"https://www.youtube.com/embed/-F4WS8o-G2A\" frameborder=\"0\" allowfullscreen></iframe>"
      ],
      "text/plain": [
       "<IPython.core.display.HTML object>"
      ]
     },
     "metadata": {},
     "output_type": "display_data"
    }
   ],
   "source": [
    "%%HTML\n",
    "<iframe width=\"400\" height=\"250\" src=\"https://www.youtube.com/embed/-F4WS8o-G2A\" frameborder=\"0\" allowfullscreen></iframe>"
   ]
  },
  {
   "cell_type": "markdown",
   "metadata": {},
   "source": [
    "--------------------------------------\n",
    "### Web-links\n",
    "\n",
    "https://youtu.be/-F4WS8o-G2A"
   ]
  },
  {
   "cell_type": "markdown",
   "metadata": {},
   "source": [
    "--------------------------------------\n",
    "### LaTex equations"
   ]
  },
  {
   "cell_type": "markdown",
   "metadata": {},
   "source": [
    "$$e^x=\\sum_{i=0}^\\infty \\frac{1}{i!}x^i$$"
   ]
  },
  {
   "cell_type": "markdown",
   "metadata": {},
   "source": [
    "--------------------------------------\n",
    "### Rendered HTML"
   ]
  },
  {
   "cell_type": "markdown",
   "metadata": {},
   "source": [
    "<div class=\"panel panel-info\">\n",
    "    <div class=\"panel-heading\">\n",
    "        <p><i class=\"fa fa-info-circle\" aria-hidden=\"true\"></i> More Information</p>\n",
    "    </div>\n",
    "    <div class=\"panel-body\">\n",
    "        <p>Some text giving more information</p>\n",
    "    </div>\n",
    "</div>"
   ]
  },
  {
   "cell_type": "markdown",
   "metadata": {},
   "source": [
    "--------------------------------------\n",
    "### Dynamic, live, code"
   ]
  },
  {
   "cell_type": "code",
   "execution_count": 2,
   "metadata": {},
   "outputs": [
    {
     "name": "stdout",
     "output_type": "stream",
     "text": [
      "Welcome\n"
     ]
    }
   ],
   "source": [
    "message = \"Welcome\"\n",
    "print(message)"
   ]
  },
  {
   "cell_type": "code",
   "execution_count": 3,
   "metadata": {},
   "outputs": [
    {
     "name": "stdout",
     "output_type": "stream",
     "text": [
      "[1, 1, 2, 3, 5, 8, 13, 21, 34, 55]\n"
     ]
    }
   ],
   "source": [
    "def fib(n):\n",
    "    seq = [1, 1]\n",
    "    for _ in range(2, n):\n",
    "        seq.append(seq[-1] + seq[-2])\n",
    "    return seq\n",
    "\n",
    "print(fib(10))"
   ]
  },
  {
   "cell_type": "markdown",
   "metadata": {},
   "source": [
    "--------------------------------------\n",
    "# Getting started\n",
    "\n",
    "## Installation\n",
    "\n",
    "- Install Jupyter Notebook via the Anaconda bundler:\n",
    "    - https://www.continuum.io/downloads\n",
    "- Available for Windows, Max, and Linux\n",
    "- Download the Python 3.x version\n",
    "- Install by following the installation wizard\n",
    "    - Add to `PATH` environmental variable\n",
    "      ![](./figures/add_path.png)"
   ]
  },
  {
   "cell_type": "markdown",
   "metadata": {},
   "source": [
    "--------------------------------------\n",
    "## Running Jupyter Notebook\n",
    "\n",
    "- Via Anaconda Navigator (not recommended)\n",
    "- Via Jupyter Notebook shortcut (not recommended)\n",
    "- Via Windows File Explorer (Carl's trick - recommended)"
   ]
  },
  {
   "cell_type": "code",
   "execution_count": 6,
   "metadata": {},
   "outputs": [
    {
     "data": {
      "text/html": [
       "<iframe width=\"560\" height=\"315\" src=\"https://www.youtube.com/embed/JId0f7URtOQ\" frameborder=\"0\" allowfullscreen></iframe>"
      ],
      "text/plain": [
       "<IPython.core.display.HTML object>"
      ]
     },
     "metadata": {},
     "output_type": "display_data"
    }
   ],
   "source": [
    "%%HTML\n",
    "<iframe width=\"560\" height=\"315\" src=\"https://www.youtube.com/embed/JId0f7URtOQ\" frameborder=\"0\" allowfullscreen></iframe>"
   ]
  },
  {
   "cell_type": "markdown",
   "metadata": {},
   "source": [
    "--------------------------------------\n",
    "## Jupyter Notebook Overview\n",
    "\n",
    "- Dashboard (Files)\n",
    "- Creating a new notebook\n",
    "- Cell types - `Markdown` or `Code`\n",
    "- Executing a cell\n",
    "- Edit mode vs Rendered mode"
   ]
  },
  {
   "cell_type": "markdown",
   "metadata": {
    "collapsed": true
   },
   "source": [
    "--------------------------------------\n",
    "# Cell Markdown + LaTeX\n",
    "\n",
    "\"Text can be added to Jupyter Notebooks using Markdown cells. Markdown is a popular markup language that is a superset of HTML.\"\n",
    "\n",
    "- https://daringfireball.net/projects/markdown/basics\n",
    "- [http://jupyter-notebook.readthedocs.io/en/latest/examples/Notebook/Working With Markdown Cells.html](http://jupyter-notebook.readthedocs.io/en/latest/examples/Notebook/Working With Markdown Cells.html)\n",
    "- http://datascience.ibm.com/blog/markdown-for-jupyter-notebooks-cheatsheet/"
   ]
  },
  {
   "cell_type": "markdown",
   "metadata": {},
   "source": [
    "--------------------------------------\n",
    "## Headings\n",
    "\n",
    "```\n",
    "# Heading 1\n",
    "## Heading 1.1\n",
    "### Heading 1.1.1\n",
    "```"
   ]
  },
  {
   "cell_type": "markdown",
   "metadata": {},
   "source": [
    "--------------------------------------\n",
    "## Styles\n",
    "\n",
    "- **Bold** $\\to$ `**text**`\n",
    "- *Italic* $\\to$ `*text*`\n",
    "- `Mono` $\\to$ ` `text` ` (backticks not quotation marks)\n",
    "- <font color=blue>Colour</font> $\\to$ `<font color=blue>text</font>` (HTML code)"
   ]
  },
  {
   "cell_type": "markdown",
   "metadata": {},
   "source": [
    "--------------------------------------\n",
    "## Bullet Lists\n",
    "\n",
    "- Item 1\n",
    "- Item 2\n",
    "    - Item 2.1\n",
    "    - Item 2.2\n",
    "    - Item 2.3\n",
    "- Item 3\n"
   ]
  },
  {
   "cell_type": "markdown",
   "metadata": {},
   "source": [
    "--------------------------------------\n",
    "## Numbered Lists\n",
    "\n",
    "1. Item 1\n",
    "2. Item 2\n",
    "    1. Item 2.1\n",
    "    2. Item 2.2\n",
    "    3. Item 2.3\n",
    "3. Item 3\n"
   ]
  },
  {
   "cell_type": "markdown",
   "metadata": {},
   "source": [
    "--------------------------------------\n",
    "## Horizontal Lines\n",
    "\n",
    "`***` (3 or more)\n",
    "\n",
    "or\n",
    "\n",
    "`---` (3 or more)"
   ]
  },
  {
   "cell_type": "markdown",
   "metadata": {},
   "source": [
    "--------------------------------------\n",
    "## Figures\n",
    "\n",
    "#### Shorthand - no sizing\n",
    "\n",
    "``![](relative_path_to_file.ext)`` or <br>\n",
    "``![](url)``\n",
    "![](./figures/up_logo.jpg)\n",
    "![](http://jupyter.org/assets/jupyterpreview.png)\n",
    "\n",
    "#### HTML - sizing\n",
    "\n",
    "``<img src=\"relative_path_to_file.ext\" width=\"300px\">`` or <br>\n",
    "``<img src=\"url\" width=\"300px\">``\n",
    "<img src=\"./figures/up_logo.jpg\" width=\"300px\">\n",
    "<img src=\"http://jupyter.org/assets/jupyterpreview.png\" width=\"300px\">"
   ]
  },
  {
   "cell_type": "markdown",
   "metadata": {},
   "source": [
    "--------------------------------------\n",
    "## Videos\n",
    "\n",
    "### Local Files - HTML - sizing\n",
    "\n",
    "``<video controls src=\"relative_path_to_file.ext\"  width=\"560px\" height=\"315px\"/>``\n",
    "<video controls src=\"./videos/3_Python3-Jupyter_Tutorial.mp4\" width=\"560px\" height=\"315px\"/>"
   ]
  },
  {
   "cell_type": "markdown",
   "metadata": {},
   "source": [
    "### Embedding from YouTube"
   ]
  },
  {
   "cell_type": "code",
   "execution_count": 4,
   "metadata": {},
   "outputs": [
    {
     "data": {
      "text/html": [
       "<iframe width=\"560\" height=\"315\" src=\"https://www.youtube.com/embed/ZABbRR0tfuc\" frameborder=\"0\" allowfullscreen></iframe>"
      ],
      "text/plain": [
       "<IPython.core.display.HTML object>"
      ]
     },
     "metadata": {},
     "output_type": "display_data"
    }
   ],
   "source": [
    "%%HTML\n",
    "<iframe width=\"560\" height=\"315\" src=\"https://www.youtube.com/embed/ZABbRR0tfuc\" frameborder=\"0\" allowfullscreen></iframe>"
   ]
  },
  {
   "cell_type": "markdown",
   "metadata": {},
   "source": [
    "--------------------------------------\n",
    "## LaTeX\n",
    "\n",
    "- Inline maths $\\to$ `$f(x)=x^2$` $\\to$ $f(x)=x^2$\n",
    "- Equations $\\to$ `$$f(x)=x^2$$`\n",
    "$$f(x)=x^2$$\n",
    "\n",
    "- https://en.wikibooks.org/wiki/LaTeX/Mathematics\n",
    "- https://en.wikibooks.org/wiki/LaTeX/Advanced_Mathematics\n",
    "\n",
    "\n",
    "- Random Examples:\n",
    "\n",
    "$$\n",
    "  x = a_0 + \\cfrac{12356616316}{a_3 \n",
    "          + \\cfrac{16565}{a_3 \n",
    "          + \\cfrac{165465465}{a_9 + \\cfrac{1131321}{a_7} } } }\n",
    "$$\n",
    "\n",
    "--------------------------------------\n",
    "$$\n",
    " z = \\overbrace{\n",
    "   \\underbrace{x}_\\text{real} + i\n",
    "   \\underbrace{y}_\\text{imaginary}\n",
    "  }^\\text{complex number}\n",
    "$$\n",
    "\n",
    "--------------------------------------\n",
    "$$\n",
    "A_{m,n} = \n",
    " \\begin{pmatrix}\n",
    "  a_{1,1} & a_{1,2} & \\cdots & a_{1,n} \\\\\n",
    "  a_{2,1} & a_{2,2} & \\cdots & a_{2,n} \\\\\n",
    "  \\vdots  & \\vdots  & \\ddots & \\vdots  \\\\\n",
    "  a_{m,1} & a_{m,2} & \\cdots & a_{m,n} \n",
    " \\end{pmatrix}\n",
    "$$\n",
    "\n",
    "--------------------------------------\n",
    "$$\n",
    "f(n) =\n",
    "  \\begin{cases}\n",
    "    n/2       & \\quad \\text{if } n \\text{ is even}\\\\\n",
    "    -(n+1)/2  & \\quad \\text{if } n \\text{ is odd}\\\\\n",
    "  \\end{cases}\n",
    "$$"
   ]
  },
  {
   "cell_type": "markdown",
   "metadata": {
    "collapsed": true
   },
   "source": [
    "--------------------------------------\n",
    "# Incorporating programming into other courses\n",
    "\n",
    "- Notebooks as tools to verify hand calculations\n",
    "    - Examples:\n",
    "        - Computing cross products\n",
    "        - Interpolating from tables\n",
    "        - Getting thermodynamic properties (Coolprop)\n",
    "        - Solving truss structures\n",
    "        - Etc.\n",
    "\n",
    "\n",
    "- Notebook based assignments"
   ]
  },
  {
   "cell_type": "markdown",
   "metadata": {},
   "source": [
    "--------------------------------------\n",
    "# Installing additional packages\n",
    "\n",
    "- `NumPy`, `SciPy`, `Matplotlib`, `Pandas` - Gets installed by `Anaconda` installation\n",
    "\n",
    "\n",
    "- `Control` - Used for control systems\n",
    "    - `conda install control -c conda-forge`\n",
    "\n",
    "\n",
    "- `Nbgrader` - Used for managing and auto-grading of notebook based assignments\n",
    "    - `conda install nbgrader -c conda-forge`\n",
    "\n",
    "\n",
    "- `Coolprop` - Used to get thermodynamic properties\n",
    "    - `pip install coolprop`\n",
    "    - Requires MS Visual C++ Build Tools to be installed (http://landinghub.visualstudio.com/visual-cpp-build-tools)\n",
    "\n",
    "\n",
    "- Additional packages get installed via the `conda` or `pip` install commands in the command prompt.\n",
    "\n",
    "\n",
    "- If `Anaconda` was installed for all users then the command prompt must be \"Run as Administrator\"\n",
    "  ![](./figures/run_as_admin.png)"
   ]
  },
  {
   "cell_type": "markdown",
   "metadata": {},
   "source": [
    "# Online community and further information\n",
    "\n",
    "- **Anaconda**: Leading Open Data Science Platform Powered by Python (https://www.continuum.io/downloads).\n",
    "- **Jupyter**: Open source, interactive data science and scientific computing across over 40 programming languages (https://jupyter.org/).\n",
    "- **Jupyter Group**: Google Group for Jupyter-related projects (https://groups.google.com/forum/?hl=en#!forum/jupyter).\n",
    "- **Teaching with Jupyter Notebooks Group**: Google Group for instructors who want to teach with the Jupyter notebook (https://groups.google.com/forum/?hl=en#!forum/jupyter-education)\n",
    "- **nbviewer**: A simple way to share Jupyter Notebooks (https://nbviewer.jupyter.org/).\n",
    "- **mybinder**: Turn a GitHub repo into a collection of interactive notebooks (http://mybinder.org/).\n",
    "- **nbgrader**: A system for assigning and grading notebooks (https://github.com/jupyter/nbgrader).\n",
    "- **tmpnb**: A temporary way for to try out a recent development versions of the IPython/Jupyter notebook. (https://tmpnb.org/)"
   ]
  },
  {
   "cell_type": "code",
   "execution_count": null,
   "metadata": {
    "collapsed": true
   },
   "outputs": [],
   "source": []
  }
 ],
 "metadata": {
  "kernelspec": {
   "display_name": "Python 3",
   "language": "python",
   "name": "python3"
  },
  "language_info": {
   "codemirror_mode": {
    "name": "ipython",
    "version": 3
   },
   "file_extension": ".py",
   "mimetype": "text/x-python",
   "name": "python",
   "nbconvert_exporter": "python",
   "pygments_lexer": "ipython3",
   "version": "3.6.1"
  }
 },
 "nbformat": 4,
 "nbformat_minor": 2
}
