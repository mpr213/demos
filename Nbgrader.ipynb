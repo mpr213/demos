{
 "cells": [
  {
   "cell_type": "markdown",
   "metadata": {},
   "source": [
    "# Nbgrader Presentation / Demo\n",
    "\n",
    "- What is Nbgrader?\n",
    "- Nbgrader installation\n",
    "- Directory tree navigation in the command prompt\n",
    "- Quick start, directory structure, and config file\n",
    "- Nbgrader assignment steps\n",
    "    - Creating a notebook based assignment\n",
    "    - Distribution and collecting assignment files\n",
    "    - Auto-grading the assignment files\n",
    "    - Etc.\n",
    "- Documentation and further information"
   ]
  },
  {
   "cell_type": "markdown",
   "metadata": {},
   "source": [
    "--------------------------------------\n",
    "# What is Nbgrader?\n",
    "\n",
    "- nbgrader is a tool that facilitates the creating and grading of notebook-based assignments.\n",
    "- It allows instructors to easily create notebook-based assignments that include both coding exercises and written free-responses.\n",
    "- nbgrader also provides a streamlined interface for the rapid grading of completed assignments.\n",
    "\n",
    "\n",
    "**Recommended**: Before starting read the documentation (http://nbgrader.readthedocs.io/en/stable/index.html)"
   ]
  },
  {
   "cell_type": "markdown",
   "metadata": {},
   "source": [
    "--------------------------------------\n",
    "# Nbgrader Installation\n",
    "\n",
    "- Installed from the command prompt\n",
    "- Installed via `conda`:\n",
    "    - `conda install nbgrader -c conda-forge` OR\n",
    "\n",
    "\n",
    "- Installed via `pip`:\n",
    "    - `pip install nbgrader`\n",
    "    - `jupyter nbextension install --sys-prefix --py nbgrader --overwrite`\n",
    "    - `jupyter nbextension enable --sys-prefix --py nbgrader`\n",
    "    - `jupyter serverextension enable --sys-prefix --py nbgrader`\n",
    "\n",
    "**Note**: If `Anaconda` was installed for all users then the command prompt must be \"Run as Administrator\"\n",
    "\n",
    "![](./figures/run_as_admin.png)"
   ]
  },
  {
   "cell_type": "markdown",
   "metadata": {},
   "source": [
    "--------------------------------------\n",
    "# Directory tree navigation in the command prompt\n",
    "\n",
    "- Navigate to parent folder in Windows File Explorer\n",
    "- Open the command prompt\n",
    "- Type `cd ` (with a space at the end)\n",
    "- Drag the destination folder into the command prompt and hit enter\n",
    "\n",
    "\n",
    "- Commands:\n",
    "    - `cd` used to change directory\n",
    "    - `dir` used to view contents of a directory"
   ]
  },
  {
   "cell_type": "markdown",
   "metadata": {},
   "source": [
    "--------------------------------------\n",
    "# Nbgrader quick start, directory structure, and config file\n",
    "\n",
    "- First navigate to the desired folder in the command prompt\n",
    "- Create an initial skeleton directory structure (with example assignment) and config file\n",
    "    - `nbgrader quickstart course_id`\n",
    "    - Replace `course_id` with the name of your course\n",
    "- Navigate into the new course folder\n",
    "    - `cd course_id`\n",
    "- The following is create by `quickstart`\n",
    "    - `source` folder: This is where the master versions of the assignments are saved\n",
    "    - `nbgrader_config.py` file: All configurable options for the nbgrader steps (commands)\n",
    "\n",
    "\n",
    "## Default directory structure and files:\n",
    "\n",
    "- `source` folder: Where the **master** versions of the assignments are saved\n",
    "- `release` folder: Where the student versions of the assignments are saved\n",
    "- `submitted` folder: Where the students origional submission files are saved\n",
    "- `autograded` folder: Where the students auto-graded submission files are saved\n",
    "- `feedback` folder: Where the students static (HTML) feedback files are saved\n",
    "- `nbgrader_config.py` file: All configurable options for the nbgrader steps (commands)\n",
    "- `gradebook.db` file: Database that stores information about the assignments, students, grades, etc."
   ]
  },
  {
   "cell_type": "markdown",
   "metadata": {},
   "source": [
    "--------------------------------------\n",
    "# Nbgrader assignment steps\n",
    "\n",
    "- Create a master assignment (E.g. ps1 - `jupyter-notebook` + `formgrader`)\n",
    "    - View - Cell Toobar - Create Assignment\n",
    "    - Cell Types:\n",
    "        - Autograded Answer\n",
    "        - Autograded Tests\n",
    "        - Manually Graded Answer\n",
    "        - Read Only\n",
    "    - `BEGIN SOLUTION` / `END SOLUTION` delimiters\n",
    "    - `c.ClearSolutions.code_stub`\n",
    "    - `BEGIN HIDDEN TESTS` / `END HIDDEN TESTS` delimiters\n",
    "    - Restart kernel and run all cells to ensure master version is correct"
   ]
  },
  {
   "cell_type": "markdown",
   "metadata": {},
   "source": [
    "- Add assignment metadata (duedate) if needed\n",
    "\n",
    "\n",
    "- Create a student version (`jupyter-notebook` + `formgrader`)\n",
    "\n",
    "\n",
    "- Distribute and collect\n",
    "    - Create an assignment on ClickUP and upload the student version assignment\n",
    "    - Download all submitted assignment files from ClickUP\n",
    "    - Save the `.zip` file to `.downloaded/ps1/archive`\n",
    "    - Extract and collect the submission files (`nbgrader zip_collect ps1`)\n",
    "        - Regular expressions (filename pattern matching)\n",
    "            - https://docs.python.org/3/howto/regex.html\n",
    "        - Typical filename: \n",
    "            - `Problem Set 1_u00000000_attempt_2017-02-17-16-59-00_problem1.ipynb`\n",
    "            - `{ClickUP name}_uxxxxxxxx_attempt_YYYY-MM-DD-HH-MM-SS_{notebook_id}.ipynb`\n",
    "        - **NB** `{notebook_id}` must be matchable to the filename of the student assignment version\n",
    "            - I.e. if students rename the notebook then it will not be collected or auto-graded\n",
    "\n",
    "```python\n",
    "c.FileNameCollectorPlugin.named_regexp = (\n",
    "    \".*_\"\n",
    "    \"(?P<student_id>u[0-9]+)_attempt_\"\n",
    "    \"(?P<timestamp>[0-9\\-]+)_.*\"\n",
    "    \"(?P<file_id>problem[0-9]+).*\"\n",
    ")\n",
    "```\n",
    "\n",
    "\n",
    "- Auto-grade the submission files (`nbgrader autograde ps1`)\n",
    "\n",
    "\n",
    "- Manually grade the submission files, if needed (`jupyter-notebook` + `formgrader`)\n",
    "\n",
    "\n",
    "- Create feedback versions (`nbgrader feedback ps1`)\n",
    "\n",
    "\n",
    "- Zip feedback and upload feedback to ClickUP\n",
    "    - helpers/zip_feedback.py\n",
    "    - Single shared folder on ClickUP"
   ]
  },
  {
   "cell_type": "markdown",
   "metadata": {},
   "source": [
    "--------------------------------------\n",
    "# Additional features\n",
    "\n",
    "- Import students and student details to the database\n",
    "    - `nbgrader db student import students.csv`\n",
    "\n",
    "\n",
    "- Export grades from the database\n",
    "    - `nbgrader export`\n",
    "\n",
    "\n",
    "- Late submission penalties\n",
    "    - config file\n",
    "    - helpers/plugins.py"
   ]
  },
  {
   "cell_type": "markdown",
   "metadata": {},
   "source": [
    "--------------------------------------\n",
    "# Documentation and further information\n",
    "\n",
    "- **Nbgrader Documentation**: Full nbgrader documentation (https://nbgrader.readthedocs.io/)\n",
    "- **Teaching with Jupyter Notebooks Group**: Google Group for instructors who want to teach with the Jupyter Notebook (https://groups.google.com/forum/?hl=en#!forum/jupyter-education)\n",
    "- **Nbgrader Project** (https://github.com/jupyter/nbgrader)\n",
    "- **Nbgrader Issues** (https://github.com/jupyter/nbgrader/issues)"
   ]
  }
 ],
 "metadata": {
  "kernelspec": {
   "display_name": "Python 3",
   "language": "python",
   "name": "python3"
  },
  "language_info": {
   "codemirror_mode": {
    "name": "ipython",
    "version": 3
   },
   "file_extension": ".py",
   "mimetype": "text/x-python",
   "name": "python",
   "nbconvert_exporter": "python",
   "pygments_lexer": "ipython3",
   "version": "3.6.1"
  }
 },
 "nbformat": 4,
 "nbformat_minor": 2
}
