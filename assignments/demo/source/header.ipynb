{
 "cells": [
  {
   "cell_type": "markdown",
   "metadata": {},
   "source": [
    "# Demo Assignment Problem\n",
    "\n",
    "## Instructions\n",
    "\n",
    "- Fill in any place that says `YOUR CODE HERE`\n",
    "- **Do not rename this notebook otherwise the autograder will not grade it and you will get 0 for this problem**\n",
    "- Make sure you fill your student number (starting with \"u\", I.e. add it to the string) below:"
   ]
  },
  {
   "cell_type": "code",
   "execution_count": null,
   "metadata": {
    "collapsed": true
   },
   "outputs": [],
   "source": [
    "STUDENT_NUMBER = \"u\""
   ]
  },
  {
   "cell_type": "markdown",
   "metadata": {},
   "source": [
    "Before you turn this assignment in, make sure everything runs as expected:\n",
    "- First, **restart the kernel** (in the menubar, select `Kernel` $\\rightarrow$ `Restart`).\n",
    "- Second **run all cells** (in the menubar, select `Cell` $\\rightarrow$ `Run All`)."
   ]
  }
 ],
 "metadata": {
  "kernelspec": {
   "display_name": "Python 3",
   "language": "python",
   "name": "python3"
  },
  "language_info": {
   "codemirror_mode": {
    "name": "ipython",
    "version": 3
   },
   "file_extension": ".py",
   "mimetype": "text/x-python",
   "name": "python",
   "nbconvert_exporter": "python",
   "pygments_lexer": "ipython3",
   "version": "3.6.1"
  }
 },
 "nbformat": 4,
 "nbformat_minor": 1
}
